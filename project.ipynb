{
 "cells": [
  {
   "cell_type": "markdown",
   "metadata": {},
   "source": [
    "# Projet de Classification de Fake News\n",
    "\n",
    "Ce projet de traitement du langage naturel (NLP) vise à développer un modèle capable de classifier les articles de presse en tant que fake news ou non. Avec la prolifération des informations en ligne, il est crucial de pouvoir identifier rapidement et efficacement les fausses informations pour maintenir l'intégrité des données et informer correctement le public. Nous utiliserons des techniques avancées de NLP et d'apprentissage automatique pour analyser les textes et déterminer leur véracité."
   ]
  },
  {
   "cell_type": "code",
   "execution_count": 2,
   "metadata": {},
   "outputs": [],
   "source": [
    "# Importation data\n",
    "import pandas as pd\n",
    "import numpy as np\n",
    "\n",
    "# Importation des données\n",
    "\n",
    "true = pd.read_csv(\"data/True.csv\")\n",
    "fake = pd.read_csv(\"data/Fake.csv\")"
   ]
  },
  {
   "cell_type": "code",
   "execution_count": 13,
   "metadata": {},
   "outputs": [
    {
     "name": "stdout",
     "output_type": "stream",
     "text": [
      "(21417, 4)\n",
      "(23481, 4)\n",
      "Index(['title', 'text', 'subject', 'date'], dtype='object')\n",
      "Index(['title', 'text', 'subject', 'date'], dtype='object')\n"
     ]
    }
   ],
   "source": [
    "#connaitre le nombre de colonnes et de lignes \n",
    "print(true.shape)\n",
    "print(fake.shape)\n",
    "\n",
    "#connaitre les colonnes\n",
    "print(true.columns)\n",
    "print(fake.columns)"
   ]
  },
  {
   "cell_type": "code",
   "execution_count": null,
   "metadata": {},
   "outputs": [],
   "source": []
  }
 ],
 "metadata": {
  "kernelspec": {
   "display_name": "Python 3",
   "language": "python",
   "name": "python3"
  },
  "language_info": {
   "codemirror_mode": {
    "name": "ipython",
    "version": 3
   },
   "file_extension": ".py",
   "mimetype": "text/x-python",
   "name": "python",
   "nbconvert_exporter": "python",
   "pygments_lexer": "ipython3",
   "version": "3.12.1"
  }
 },
 "nbformat": 4,
 "nbformat_minor": 2
}
